{
  "cells": [
    {
      "cell_type": "markdown",
      "metadata": {
        "id": "view-in-github",
        "colab_type": "text"
      },
      "source": [
        "<a href=\"https://colab.research.google.com/github/FadelYang/craft-it-object-detection-model/blob/main/main.ipynb\" target=\"_parent\"><img src=\"https://colab.research.google.com/assets/colab-badge.svg\" alt=\"Open In Colab\"/></a>"
      ]
    },
    {
      "cell_type": "code",
      "execution_count": 1,
      "metadata": {
        "id": "4JnzJf9euig4"
      },
      "outputs": [],
      "source": [
        "#importing required Libraries\n",
        "import os\n",
        "import tensorflow as tf\n",
        "import numpy as np\n",
        "import pandas as pd\n",
        "import cv2\n",
        "import matplotlib.pyplot as plt\n",
        "import matplotlib.patches as patches\n",
        "from google.colab import files"
      ]
    },
    {
      "cell_type": "markdown",
      "metadata": {
        "id": "JF0A5Q_zr742"
      },
      "source": [
        "# Preparing Dataset"
      ]
    },
    {
      "cell_type": "markdown",
      "metadata": {
        "id": "Kq6boXs1TLJT"
      },
      "source": [
        "## Mount to Google Drive"
      ]
    },
    {
      "cell_type": "code",
      "execution_count": 2,
      "metadata": {
        "colab": {
          "base_uri": "https://localhost:8080/"
        },
        "id": "pEaz1G0zTKTt",
        "outputId": "d533e387-1c43-4824-a066-6d7e62b9466d"
      },
      "outputs": [
        {
          "output_type": "stream",
          "name": "stdout",
          "text": [
            "Drive already mounted at /content/drive; to attempt to forcibly remount, call drive.mount(\"/content/drive\", force_remount=True).\n"
          ]
        }
      ],
      "source": [
        "from google.colab import drive\n",
        "drive.mount('/content/drive')"
      ]
    },
    {
      "cell_type": "code",
      "execution_count": 3,
      "metadata": {
        "colab": {
          "base_uri": "https://localhost:8080/"
        },
        "id": "4tD5l4odTyKL",
        "outputId": "95baba4f-8d00-4984-dd5a-4c30cdf7ffb8"
      },
      "outputs": [
        {
          "output_type": "stream",
          "name": "stdout",
          "text": [
            "/content/drive/MyDrive/Colab Notebooks\n"
          ]
        }
      ],
      "source": [
        "%cd drive/MyDrive/'Colab Notebooks'"
      ]
    },
    {
      "cell_type": "markdown",
      "source": [
        "## Load Dataset\n",
        "\n"
      ],
      "metadata": {
        "id": "LYDQjdM35NIv"
      }
    },
    {
      "cell_type": "code",
      "source": [
        "!rm -r dataset\n",
        "!rm data\n",
        "# !wget https://app.roboflow.com/ds/gzGSPSpsan?key=CrzyeSBgrQ\n",
        "# !mv gzGSPSpsan?key=CrzyeSBgrQ data\n",
        "# !mkdir dataset\n",
        "# !unzip data -d dataset"
      ],
      "metadata": {
        "id": "k1neWgemF_pb",
        "collapsed": true
      },
      "execution_count": 24,
      "outputs": []
    },
    {
      "cell_type": "code",
      "source": [
        "## Load label dataset.\n",
        "dataset_dir = os.path.join(os.getcwd(), 'dataset')\n",
        "train_label_df = pd.read_csv(os.path.join(dataset_dir, 'train', '_classes.csv'))\n",
        "validation_label_df = pd.read_csv(os.path.join(dataset_dir, 'valid', '_classes.csv'))\n",
        "train_images_dir = os.path.join(dataset_dir, 'train')\n",
        "validation_images_dir = os.path.join(dataset_dir, 'valid')\n",
        "\n",
        "print(train_images_dir)"
      ],
      "metadata": {
        "id": "UpiQRFsyGyM5",
        "colab": {
          "base_uri": "https://localhost:8080/"
        },
        "outputId": "87cb37a3-3067-42b9-ce62-43beac6cad68"
      },
      "execution_count": 5,
      "outputs": [
        {
          "output_type": "stream",
          "name": "stdout",
          "text": [
            "/content/drive/MyDrive/Colab Notebooks/dataset/train\n"
          ]
        }
      ]
    },
    {
      "cell_type": "code",
      "source": [
        "print(train_label_df.head())\n",
        "print(validation_label_df.head())"
      ],
      "metadata": {
        "colab": {
          "base_uri": "https://localhost:8080/"
        },
        "id": "3DZ0j3TdKeI4",
        "outputId": "d7928773-006a-42f2-b59f-a0df08d30980"
      },
      "execution_count": 6,
      "outputs": [
        {
          "output_type": "stream",
          "name": "stdout",
          "text": [
            "                                           filename   aluminiumfoil   bottle  \\\n",
            "0  1196_jpg.rf.68689b8efc68113f5ffa321d8c02fe0b.jpg               0        0   \n",
            "1   757_jpg.rf.67b5d7ce20e152ea0f2b8783ffe65301.jpg               0        0   \n",
            "2   344_jpg.rf.6725ba8501f47157d433edc3e1420a85.jpg               0        1   \n",
            "3    65_jpg.rf.65d079f8e8e3840c836b3902febc65c8.jpg               0        0   \n",
            "4   414_jpg.rf.665baa402c9f84c0416955ebe0ad3925.jpg               0        0   \n",
            "\n",
            "    bottlecap   can   carton   cup   paper   plastic   straw  \n",
            "0           0     0        0     0       0         0       1  \n",
            "1           0     0        0     1       0         0       0  \n",
            "2           0     1        0     0       0         0       0  \n",
            "3           1     0        0     0       0         0       0  \n",
            "4           0     1        0     0       0         0       0  \n",
            "                                          filename   aluminiumfoil   bottle  \\\n",
            "0  121_jpg.rf.030d2a2ac6f40bab2e9bea71c50b7716.jpg               0        0   \n",
            "1  238_jpg.rf.01617a069a705fa562ef84880bd05ac7.jpg               0        0   \n",
            "2  204_jpg.rf.08ad57294fabcc5843ceebab7931c74e.jpg               0        0   \n",
            "3  226_jpg.rf.0aea7194b70e9605c1285d726dc173ab.jpg               0        0   \n",
            "4   28_jpg.rf.03810035eb376abcc381a4feb9969423.jpg               0        0   \n",
            "\n",
            "    bottlecap   can   carton   cup   paper   plastic   straw  \n",
            "0           0     0        1     0       0         0       0  \n",
            "1           0     0        0     0       0         0       1  \n",
            "2           0     0        0     0       0         1       0  \n",
            "3           0     0        0     0       0         0       1  \n",
            "4           1     0        0     0       0         0       0  \n"
          ]
        }
      ]
    },
    {
      "cell_type": "code",
      "source": [
        "# !rm -r train"
      ],
      "metadata": {
        "id": "DbZQ2_uMeSnD"
      },
      "execution_count": 7,
      "outputs": []
    },
    {
      "cell_type": "code",
      "source": [
        "train_label_df.columns = train_label_df.columns.str.strip()\n",
        "validation_label_df.columns = validation_label_df.columns.str.strip()"
      ],
      "metadata": {
        "id": "8D2XLGfBNtRB"
      },
      "execution_count": 8,
      "outputs": []
    },
    {
      "cell_type": "code",
      "source": [
        "# # Check the data.\n",
        "# import os\n",
        "\n",
        "# train_image_filenames = train_label_df['filename'].tolist()\n",
        "# validation_image_filenames = validation_label_df['filename'].tolist()\n",
        "\n",
        "# train_image_paths = [os.path.join(train_images_dir, fname) for fname in train_image_filenames]\n",
        "# validation_image_paths = [os.path.join(validation_images_dir, fname) for fname in validation_image_filenames]\n",
        "\n",
        "# # Check if all files exist\n",
        "# missing_train_images = [img for img in train_image_paths if not os.path.exists(img)]\n",
        "# missing_validation_images = [img for img in validation_image_paths if not os.path.exists(img)]\n",
        "\n",
        "# print(f\"Missing train images: {missing_train_images}\")\n",
        "# print(f\"Missing validation images: {missing_validation_images}\")"
      ],
      "metadata": {
        "id": "l7B8H30aQ9PA"
      },
      "execution_count": 9,
      "outputs": []
    },
    {
      "cell_type": "code",
      "source": [
        "columns = [\n",
        "    \"aluminiumfoil\",\n",
        "    \"bottle\",\n",
        "    \"bottlecap\",\n",
        "    \"can\",\n",
        "    \"carton\",\n",
        "    \"cup\",\n",
        "    \"paper\",\n",
        "    \"plastic\",\n",
        "    \"straw\"\n",
        "]\n",
        "\n",
        "train_datagen = tf.keras.preprocessing.image.ImageDataGenerator(rescale=1./255.)\n",
        "validation_datagen = tf.keras.preprocessing.image.ImageDataGenerator(rescale=1./255.)\n",
        "\n",
        "\n",
        "if os.path.exists(train_images_dir):\n",
        "  train_generator = train_datagen.flow_from_dataframe(\n",
        "      dataframe=train_label_df,\n",
        "      directory=train_images_dir,\n",
        "      # target_size=(224, 224),\n",
        "      x_col='filename',\n",
        "      y_col=columns,\n",
        "      batch_size=32,\n",
        "      seed=42,\n",
        "      class_mode='raw',\n",
        "      shuffle=True,\n",
        ")\n",
        "\n",
        "if os.path.exists(validation_images_dir):\n",
        "  validation_generator = validation_datagen.flow_from_dataframe(\n",
        "      dataframe=validation_label_df,\n",
        "      directory=validation_images_dir,\n",
        "      # target_size=(224, 224),\n",
        "      x_col='filename',\n",
        "      y_col=columns,\n",
        "      batch_size=32,\n",
        "      class_mode='raw',\n",
        "      seed=42,\n",
        "      shuffle=False,\n",
        ")"
      ],
      "metadata": {
        "colab": {
          "base_uri": "https://localhost:8080/"
        },
        "id": "MwuQzfEkJXEX",
        "outputId": "b2ef8480-91dd-4089-cfff-d51b421cc315"
      },
      "execution_count": 20,
      "outputs": [
        {
          "output_type": "stream",
          "name": "stdout",
          "text": [
            "Found 2331 validated image filenames.\n",
            "Found 227 validated image filenames.\n"
          ]
        }
      ]
    },
    {
      "cell_type": "markdown",
      "source": [
        "# Create Model and Training"
      ],
      "metadata": {
        "id": "OKK-p_sLfui_"
      }
    },
    {
      "cell_type": "markdown",
      "source": [
        "## Build Model\n",
        "\n"
      ],
      "metadata": {
        "id": "xOBDwijSf7E_"
      }
    },
    {
      "cell_type": "code",
      "source": [
        "resnet_model = tf.keras.applications.ResNet50(\n",
        "    include_top=False,\n",
        "    weights='imagenet',\n",
        "    input_tensor=tf.keras.Input(shape=(640, 480, 3))\n",
        ")"
      ],
      "metadata": {
        "id": "ffQiBtkCgJ8H"
      },
      "execution_count": 11,
      "outputs": []
    },
    {
      "cell_type": "code",
      "source": [
        "# Freeze layers in ResNet50\n",
        "resnet_model.trainable = False\n",
        "\n",
        "print(resnet_model)\n",
        "print(train_generator)"
      ],
      "metadata": {
        "id": "kAFLeYcDhNth",
        "colab": {
          "base_uri": "https://localhost:8080/"
        },
        "outputId": "ad65ea87-1964-435e-cac8-5fb894355deb"
      },
      "execution_count": 12,
      "outputs": [
        {
          "output_type": "stream",
          "name": "stdout",
          "text": [
            "<keras.src.engine.functional.Functional object at 0x7dc13413b520>\n",
            "<keras.src.preprocessing.image.DataFrameIterator object at 0x7dc13d70b6a0>\n"
          ]
        }
      ]
    },
    {
      "cell_type": "code",
      "source": [
        "x = resnet_model.output.shape\n",
        "print(x)"
      ],
      "metadata": {
        "colab": {
          "base_uri": "https://localhost:8080/"
        },
        "id": "U3CKe_LYMScv",
        "outputId": "091b9081-fcbe-4a34-ec0c-56dd52cf240a"
      },
      "execution_count": 13,
      "outputs": [
        {
          "output_type": "stream",
          "name": "stdout",
          "text": [
            "(None, 7, 7, 2048)\n"
          ]
        }
      ]
    },
    {
      "cell_type": "code",
      "source": [
        "inputs = tf.keras.layers.Input(shape=(640, 480, 3))\n",
        "x = resnet_model(inputs)\n",
        "x = tf.keras.layers.Conv2D(filters=64, kernel_size=(3, 3), activation='relu', padding='same')(x)\n",
        "x = tf.keras.layers.MaxPooling2D((2, 2))(x)\n",
        "x = tf.keras.layers.Conv2D(128, (3, 3), activation='relu', padding='same')(x)\n",
        "# x = tf.keras.layers.MaxPooling2D((2, 2))(x)\n",
        "x = tf.keras.layers.Conv2D(256, (3, 3), activation='relu', padding='same')(x)\n",
        "# x = tf.keras.layers.MaxPooling2D((2, 2))(x)\n",
        "x = tf.keras.layers.Conv2D(512, (3, 3), activation='relu', padding='same')(x)\n",
        "x = tf.keras.layers.MaxPooling2D((2, 2))(x)\n",
        "\n",
        "x = tf.keras.layers.GlobalAveragePooling2D()(x)\n",
        "x = tf.keras.layers.Dense(512, activation='relu')(x)\n",
        "x = tf.keras.layers.Dropout(0.5)(x)\n",
        "outputs = tf.keras.layers.Dense(9, activation='sigmoid')(x)\n",
        "\n",
        "# Create the model using the functional API\n",
        "model = tf.keras.Model(inputs=inputs, outputs=outputs)"
      ],
      "metadata": {
        "id": "6YbnAfHsiBsA"
      },
      "execution_count": 21,
      "outputs": []
    },
    {
      "cell_type": "code",
      "source": [
        "model.compile(\n",
        "    tf.keras.optimizers.Adam(learning_rate=0.0001),\n",
        "    loss='binary_crossentropy',\n",
        "    metrics=[tf.keras.metrics.AUC(name='auc'), 'accuracy']\n",
        ")"
      ],
      "metadata": {
        "id": "TAAInqbVj2FP"
      },
      "execution_count": 22,
      "outputs": []
    },
    {
      "cell_type": "code",
      "source": [
        "history = model.fit(\n",
        "    train_generator,\n",
        "    epochs=5,\n",
        "    validation_data=validation_generator,\n",
        ")"
      ],
      "metadata": {
        "colab": {
          "base_uri": "https://localhost:8080/"
        },
        "id": "y_fObd47lVAf",
        "outputId": "37681c0a-85a6-4954-9615-072529216e6d"
      },
      "execution_count": 23,
      "outputs": [
        {
          "metadata": {
            "tags": null
          },
          "name": "stdout",
          "output_type": "stream",
          "text": [
            "Epoch 1/5\n",
            "73/73 [==============================] - 33s 345ms/step - loss: 0.3880 - auc: 0.6088 - accuracy: 0.1999 - val_loss: 0.3608 - val_auc: 0.5360 - val_accuracy: 0.1145\n",
            "Epoch 2/5\n",
            "73/73 [==============================] - 21s 292ms/step - loss: 0.3691 - auc: 0.6297 - accuracy: 0.1982 - val_loss: 0.3597 - val_auc: 0.5336 - val_accuracy: 0.1145\n",
            "Epoch 3/5\n",
            "73/73 [==============================] - 21s 287ms/step - loss: 0.3656 - auc: 0.6364 - accuracy: 0.2081 - val_loss: 0.3665 - val_auc: 0.5377 - val_accuracy: 0.1145\n",
            "Epoch 4/5\n",
            "73/73 [==============================] - 21s 281ms/step - loss: 0.3629 - auc: 0.6470 - accuracy: 0.2244 - val_loss: 0.3709 - val_auc: 0.5349 - val_accuracy: 0.1278\n",
            "Epoch 5/5\n",
            "73/73 [==============================] - 20s 275ms/step - loss: 0.3618 - auc: 0.6513 - accuracy: 0.2196 - val_loss: 0.3593 - val_auc: 0.5308 - val_accuracy: 0.1101\n"
          ]
        }
      ]
    },
    {
      "cell_type": "code",
      "source": [],
      "metadata": {
        "id": "xf2bFP6XPCw0"
      },
      "execution_count": 16,
      "outputs": []
    }
  ],
  "metadata": {
    "colab": {
      "provenance": [],
      "gpuType": "T4",
      "include_colab_link": true
    },
    "kernelspec": {
      "display_name": "Python 3",
      "name": "python3"
    },
    "language_info": {
      "name": "python"
    },
    "accelerator": "GPU"
  },
  "nbformat": 4,
  "nbformat_minor": 0
}