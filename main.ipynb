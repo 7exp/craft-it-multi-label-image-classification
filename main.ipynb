{
  "nbformat": 4,
  "nbformat_minor": 0,
  "metadata": {
    "colab": {
      "provenance": [],
      "collapsed_sections": [
        "dMYMO97rr7Ue"
      ],
      "authorship_tag": "ABX9TyN+zjH6rvull5wzy1Z2OS4J",
      "include_colab_link": true
    },
    "kernelspec": {
      "name": "python3",
      "display_name": "Python 3"
    },
    "language_info": {
      "name": "python"
    }
  },
  "cells": [
    {
      "cell_type": "markdown",
      "metadata": {
        "id": "view-in-github",
        "colab_type": "text"
      },
      "source": [
        "<a href=\"https://colab.research.google.com/github/FadelYang/craft-it-object-detection-model/blob/main/main.ipynb\" target=\"_parent\"><img src=\"https://colab.research.google.com/assets/colab-badge.svg\" alt=\"Open In Colab\"/></a>"
      ]
    },
    {
      "cell_type": "code",
      "source": [
        "#importing required Libraries\n",
        "import numpy as np\n",
        "import os\n",
        "import PIL\n",
        "import PIL.Image\n",
        "import tensorflow as tf\n",
        "import pandas as pd\n",
        "import sys\n",
        "import cv2\n",
        "import matplotlib.pyplot as plt\n",
        "from sklearn.model_selection import train_test_split\n",
        "from sklearn.metrics import confusion_matrix"
      ],
      "metadata": {
        "id": "4JnzJf9euig4"
      },
      "execution_count": 7,
      "outputs": []
    },
    {
      "cell_type": "markdown",
      "source": [
        "# Preparing Dataset"
      ],
      "metadata": {
        "id": "JF0A5Q_zr742"
      }
    },
    {
      "cell_type": "markdown",
      "source": [
        "## Connect To Kaggle And Download Datasets\n",
        "\n",
        "this code is used to connect Google Colab and Kaggle, run it just once for download the datasets from kaggle, uncomment it first if you want to run these cell below"
      ],
      "metadata": {
        "id": "dMYMO97rr7Ue"
      }
    },
    {
      "cell_type": "code",
      "execution_count": 8,
      "metadata": {
        "id": "KsZwNJQ-rrQw"
      },
      "outputs": [],
      "source": [
        "# # copy kaggle.json to /root/.kaggle/ folder so that kaggle cli can access it.\n",
        "# !mkdir /.kaggle\n",
        "# !mv kaggle.json /.kaggle\n",
        "# !mv /.kaggle /root/\n",
        "# !chmod 600 ~/.kaggle/kaggle.json"
      ]
    },
    {
      "cell_type": "code",
      "source": [
        "# # Download datasets from Kaggle.\n",
        "# !kaggle datasets download -d kshitizgajurel042/recyclable-images-with-annotations-for-detection"
      ],
      "metadata": {
        "collapsed": true,
        "id": "G3GnlennsTme"
      },
      "execution_count": 9,
      "outputs": []
    },
    {
      "cell_type": "code",
      "source": [
        "# !unzip recyclable-images-with-annotations-for-detection.zip"
      ],
      "metadata": {
        "collapsed": true,
        "id": "5Gnid9mNsVsn"
      },
      "execution_count": 10,
      "outputs": []
    },
    {
      "cell_type": "code",
      "source": [
        "# !mv 'Final Data' recyclable-images-datasets"
      ],
      "metadata": {
        "id": "7Z5zSDEMtMCY"
      },
      "execution_count": 11,
      "outputs": []
    },
    {
      "cell_type": "markdown",
      "source": [
        "## Inspect Dataset"
      ],
      "metadata": {
        "id": "Z5pkqwAkt3Qm"
      }
    },
    {
      "cell_type": "code",
      "source": [
        "# Define function for read annotations\n",
        "def read_annotations(annotation_file):\n",
        "  with open(annotation_file, 'r') as file:\n",
        "    lines = file.readlines()\n",
        "    annotations = []\n",
        "    for line in lines:\n",
        "      parts = line.strip().split()\n",
        "      class_label = parts[0]\n",
        "      x_min, y_min, x_max, y_max = map(float, parts[1:])\n",
        "      annotations.append({\n",
        "          'class_label': class_label,\n",
        "          'x_min': x_min,\n",
        "          'y_min': y_min,\n",
        "          'x_max': x_max,\n",
        "          'y_max': y_max\n",
        "      })\n",
        "    return annotations"
      ],
      "metadata": {
        "id": "0jvTZiT8t6no"
      },
      "execution_count": 12,
      "outputs": []
    },
    {
      "cell_type": "code",
      "source": [
        "# Preprocessing data\n",
        "data_dir = os.path.join(os.getcwd(), 'recyclable-images-datasets')\n",
        "\n",
        "def preprocess_data(data_dir):\n",
        "  images = []\n",
        "  annotations = []\n",
        "\n",
        "  image_folder = os.path.join(data_dir, 'images', 'train')\n",
        "  label_folder = os.path.join(data_dir, 'labels', 'train')\n",
        "\n",
        "  for image_filename in os.listdir(image_folder):\n",
        "    if image_filename.endswith('.jpg') or image_filename.endswith('.png'):\n",
        "      image_path = os.path.join(image_folder, image_filename)\n",
        "      annotation_filename = image_filename.replace('.jpg', '.txt').replace('.png', '.txt')\n",
        "      annotation_path = os.path.join(label_folder, annotation_filename)\n",
        "\n",
        "      image = cv2.imread(image_path)\n",
        "\n",
        "      # Resize image.\n",
        "      image = cv2.resize(image, (416, 416))\n",
        "\n",
        "      # Normalize image\n",
        "      image = image/255.0\n",
        "\n",
        "      if os.path.exists(annotation_path):\n",
        "        annotation = read_annotations(annotation_path)\n",
        "        images.append(image)\n",
        "        annotations.append(annotation)\n",
        "      else:\n",
        "        print(f'Annotation file for image {image_filename} not found')\n",
        "\n",
        "  return images, annotations"
      ],
      "metadata": {
        "id": "kjjq7D7MJunf"
      },
      "execution_count": 13,
      "outputs": []
    },
    {
      "cell_type": "code",
      "source": [
        "images, annotations = preprocess_data(data_dir)"
      ],
      "metadata": {
        "id": "woOgEwECLjit"
      },
      "execution_count": 14,
      "outputs": []
    },
    {
      "cell_type": "markdown",
      "source": [],
      "metadata": {
        "id": "kBxhBEosKBid"
      }
    }
  ]
}