{
  "cells": [
    {
      "cell_type": "markdown",
      "metadata": {
        "id": "view-in-github",
        "colab_type": "text"
      },
      "source": [
        "<a href=\"https://colab.research.google.com/github/FadelYang/craft-it-object-detection-model/blob/main/main.ipynb\" target=\"_parent\"><img src=\"https://colab.research.google.com/assets/colab-badge.svg\" alt=\"Open In Colab\"/></a>"
      ]
    },
    {
      "cell_type": "code",
      "execution_count": 1,
      "metadata": {
        "id": "4JnzJf9euig4",
        "colab": {
          "base_uri": "https://localhost:8080/"
        },
        "outputId": "5e43341d-e1c1-414e-c96e-e23ed75c76ce"
      },
      "outputs": [
        {
          "output_type": "stream",
          "name": "stderr",
          "text": [
            "/usr/local/lib/python3.10/dist-packages/tensorflow_addons/utils/tfa_eol_msg.py:23: UserWarning: \n",
            "\n",
            "TensorFlow Addons (TFA) has ended development and introduction of new features.\n",
            "TFA has entered a minimal maintenance and release mode until a planned end of life in May 2024.\n",
            "Please modify downstream libraries to take dependencies from other repositories in our TensorFlow community (e.g. Keras, Keras-CV, and Keras-NLP). \n",
            "\n",
            "For more information see: https://github.com/tensorflow/addons/issues/2807 \n",
            "\n",
            "  warnings.warn(\n"
          ]
        }
      ],
      "source": [
        "#importing required Libraries\n",
        "# !pip install tensorflow-addons\n",
        "import os\n",
        "import tensorflow as tf\n",
        "import tensorflow_addons as tfa\n",
        "import numpy as np\n",
        "import pandas as pd\n",
        "import cv2\n",
        "import matplotlib.pyplot as plt\n",
        "import matplotlib.style as style\n",
        "from google.colab import files\n",
        "from sklrean.utils import class_weights"
      ]
    },
    {
      "cell_type": "markdown",
      "metadata": {
        "id": "JF0A5Q_zr742"
      },
      "source": [
        "# Preparing Dataset"
      ]
    },
    {
      "cell_type": "markdown",
      "metadata": {
        "id": "Kq6boXs1TLJT"
      },
      "source": [
        "## Mount to Google Drive"
      ]
    },
    {
      "cell_type": "code",
      "execution_count": 2,
      "metadata": {
        "colab": {
          "base_uri": "https://localhost:8080/"
        },
        "id": "pEaz1G0zTKTt",
        "outputId": "3a5a3c34-7024-41ce-f05a-8a8de3b09da4"
      },
      "outputs": [
        {
          "output_type": "stream",
          "name": "stdout",
          "text": [
            "Drive already mounted at /content/drive; to attempt to forcibly remount, call drive.mount(\"/content/drive\", force_remount=True).\n"
          ]
        }
      ],
      "source": [
        "from google.colab import drive\n",
        "drive.mount('/content/drive')"
      ]
    },
    {
      "cell_type": "code",
      "execution_count": 3,
      "metadata": {
        "colab": {
          "base_uri": "https://localhost:8080/"
        },
        "id": "4tD5l4odTyKL",
        "outputId": "d64bd573-fcb5-4853-f537-10366d3823c1"
      },
      "outputs": [
        {
          "output_type": "stream",
          "name": "stdout",
          "text": [
            "/content/drive/MyDrive/Colab Notebooks\n"
          ]
        }
      ],
      "source": [
        "%cd drive/MyDrive/'Colab Notebooks'"
      ]
    },
    {
      "cell_type": "markdown",
      "source": [
        "## Load Dataset\n",
        "\n"
      ],
      "metadata": {
        "id": "LYDQjdM35NIv"
      }
    },
    {
      "cell_type": "code",
      "source": [
        "# !rm -r dataset\n",
        "# !rm data\n",
        "# !wget https://app.roboflow.com/ds/gzGSPSpsan?key=CrzyeSBgrQ\n",
        "# !mv gzGSPSpsan?key=CrzyeSBgrQ data\n",
        "# !mkdir dataset\n",
        "# !unzip data -d dataset"
      ],
      "metadata": {
        "id": "k1neWgemF_pb",
        "collapsed": true
      },
      "execution_count": 4,
      "outputs": []
    },
    {
      "cell_type": "code",
      "source": [
        "## Load label dataset.\n",
        "dataset_dir = os.path.join(os.getcwd(), 'dataset')\n",
        "train_label_df = pd.read_csv(os.path.join(dataset_dir, 'train', '_classes.csv'))\n",
        "validation_label_df = pd.read_csv(os.path.join(dataset_dir, 'valid', '_classes.csv'))\n",
        "train_images_dir = os.path.join(dataset_dir, 'train')\n",
        "validation_images_dir = os.path.join(dataset_dir, 'valid')\n",
        "\n",
        "print(train_images_dir)"
      ],
      "metadata": {
        "id": "UpiQRFsyGyM5",
        "colab": {
          "base_uri": "https://localhost:8080/"
        },
        "outputId": "29bd48af-6d0c-4082-c06a-e62ee0451d55"
      },
      "execution_count": 5,
      "outputs": [
        {
          "output_type": "stream",
          "name": "stdout",
          "text": [
            "/content/drive/MyDrive/Colab Notebooks/dataset/train\n"
          ]
        }
      ]
    },
    {
      "cell_type": "code",
      "source": [
        "print(train_label_df.head())\n",
        "print(validation_label_df.head())"
      ],
      "metadata": {
        "colab": {
          "base_uri": "https://localhost:8080/"
        },
        "id": "3DZ0j3TdKeI4",
        "outputId": "41db8d40-9242-48a3-c1e2-27f8e98d6258"
      },
      "execution_count": 6,
      "outputs": [
        {
          "output_type": "stream",
          "name": "stdout",
          "text": [
            "                                           filename   aluminiumfoil   bottle  \\\n",
            "0  1196_jpg.rf.68689b8efc68113f5ffa321d8c02fe0b.jpg               0        0   \n",
            "1   757_jpg.rf.67b5d7ce20e152ea0f2b8783ffe65301.jpg               0        0   \n",
            "2   344_jpg.rf.6725ba8501f47157d433edc3e1420a85.jpg               0        1   \n",
            "3    65_jpg.rf.65d079f8e8e3840c836b3902febc65c8.jpg               0        0   \n",
            "4   414_jpg.rf.665baa402c9f84c0416955ebe0ad3925.jpg               0        0   \n",
            "\n",
            "    bottlecap   can   carton   cup   paper   plastic   straw  \n",
            "0           0     0        0     0       0         0       1  \n",
            "1           0     0        0     1       0         0       0  \n",
            "2           0     1        0     0       0         0       0  \n",
            "3           1     0        0     0       0         0       0  \n",
            "4           0     1        0     0       0         0       0  \n",
            "                                          filename   aluminiumfoil   bottle  \\\n",
            "0  121_jpg.rf.030d2a2ac6f40bab2e9bea71c50b7716.jpg               0        0   \n",
            "1  238_jpg.rf.01617a069a705fa562ef84880bd05ac7.jpg               0        0   \n",
            "2  204_jpg.rf.08ad57294fabcc5843ceebab7931c74e.jpg               0        0   \n",
            "3  226_jpg.rf.0aea7194b70e9605c1285d726dc173ab.jpg               0        0   \n",
            "4   28_jpg.rf.03810035eb376abcc381a4feb9969423.jpg               0        0   \n",
            "\n",
            "    bottlecap   can   carton   cup   paper   plastic   straw  \n",
            "0           0     0        1     0       0         0       0  \n",
            "1           0     0        0     0       0         0       1  \n",
            "2           0     0        0     0       0         1       0  \n",
            "3           0     0        0     0       0         0       1  \n",
            "4           1     0        0     0       0         0       0  \n"
          ]
        }
      ]
    },
    {
      "cell_type": "code",
      "source": [
        "# !rm -r train"
      ],
      "metadata": {
        "id": "DbZQ2_uMeSnD"
      },
      "execution_count": 7,
      "outputs": []
    },
    {
      "cell_type": "code",
      "source": [
        "train_label_df.columns = train_label_df.columns.str.strip()\n",
        "validation_label_df.columns = validation_label_df.columns.str.strip()"
      ],
      "metadata": {
        "id": "8D2XLGfBNtRB"
      },
      "execution_count": 8,
      "outputs": []
    },
    {
      "cell_type": "code",
      "source": [
        "# # Check the data.\n",
        "# import os\n",
        "\n",
        "# train_image_filenames = train_label_df['filename'].tolist()\n",
        "# validation_image_filenames = validation_label_df['filename'].tolist()\n",
        "\n",
        "# train_image_paths = [os.path.join(train_images_dir, fname) for fname in train_image_filenames]\n",
        "# validation_image_paths = [os.path.join(validation_images_dir, fname) for fname in validation_image_filenames]\n",
        "\n",
        "# # Check if all files exist\n",
        "# missing_train_images = [img for img in train_image_paths if not os.path.exists(img)]\n",
        "# missing_validation_images = [img for img in validation_image_paths if not os.path.exists(img)]\n",
        "\n",
        "# print(f\"Missing train images: {missing_train_images}\")\n",
        "# print(f\"Missing validation images: {missing_validation_images}\")"
      ],
      "metadata": {
        "id": "l7B8H30aQ9PA"
      },
      "execution_count": 9,
      "outputs": []
    },
    {
      "cell_type": "code",
      "source": [
        "columns = [\n",
        "    \"aluminiumfoil\",\n",
        "    \"bottle\",\n",
        "    \"bottlecap\",\n",
        "    \"can\",\n",
        "    \"carton\",\n",
        "    \"cup\",\n",
        "    \"paper\",\n",
        "    \"plastic\",\n",
        "    \"straw\"\n",
        "]\n",
        "\n",
        "train_datagen = tf.keras.preprocessing.image.ImageDataGenerator(rescale=1./255.)\n",
        "validation_datagen = tf.keras.preprocessing.image.ImageDataGenerator(rescale=1./255.)\n",
        "\n",
        "\n",
        "if os.path.exists(train_images_dir):\n",
        "  train_generator = train_datagen.flow_from_dataframe(\n",
        "      dataframe=train_label_df,\n",
        "      directory=train_images_dir,\n",
        "      # target_size=(224, 224),\n",
        "      x_col='filename',\n",
        "      y_col=columns,\n",
        "      batch_size=32,\n",
        "      seed=42,\n",
        "      class_mode='raw',\n",
        "      shuffle=True,\n",
        ")\n",
        "\n",
        "if os.path.exists(validation_images_dir):\n",
        "  validation_generator = validation_datagen.flow_from_dataframe(\n",
        "      dataframe=validation_label_df,\n",
        "      directory=validation_images_dir,\n",
        "      # target_size=(224, 224),\n",
        "      x_col='filename',\n",
        "      y_col=columns,\n",
        "      batch_size=32,\n",
        "      class_mode='raw',\n",
        "      seed=42,\n",
        "      shuffle=False,\n",
        ")"
      ],
      "metadata": {
        "colab": {
          "base_uri": "https://localhost:8080/"
        },
        "id": "MwuQzfEkJXEX",
        "outputId": "88034202-8640-4191-bd33-3947fe37e1bd"
      },
      "execution_count": 10,
      "outputs": [
        {
          "output_type": "stream",
          "name": "stdout",
          "text": [
            "Found 2331 validated image filenames.\n",
            "Found 227 validated image filenames.\n"
          ]
        }
      ]
    },
    {
      "cell_type": "markdown",
      "source": [
        "# Create Model and Training"
      ],
      "metadata": {
        "id": "OKK-p_sLfui_"
      }
    },
    {
      "cell_type": "markdown",
      "source": [
        "## Build Model\n",
        "\n"
      ],
      "metadata": {
        "id": "xOBDwijSf7E_"
      }
    },
    {
      "cell_type": "code",
      "source": [
        "feature_extractor = tf.keras.applications.MobileNetV2(\n",
        "    include_top=False,\n",
        "    weights='imagenet',\n",
        "    input_tensor=tf.keras.Input(shape=(640, 480, 3))\n",
        ")"
      ],
      "metadata": {
        "id": "ffQiBtkCgJ8H",
        "colab": {
          "base_uri": "https://localhost:8080/"
        },
        "outputId": "cb83239f-e952-4702-f38e-7521380f8806"
      },
      "execution_count": 11,
      "outputs": [
        {
          "output_type": "stream",
          "name": "stderr",
          "text": [
            "WARNING:tensorflow:`input_shape` is undefined or non-square, or `rows` is not in [96, 128, 160, 192, 224]. Weights for input shape (224, 224) will be loaded as the default.\n"
          ]
        }
      ]
    },
    {
      "cell_type": "code",
      "source": [
        "# Freeze layers in ResNet50\n",
        "feature_extractor.trainable = False\n",
        "\n",
        "print(feature_extractor)\n",
        "print(train_generator)"
      ],
      "metadata": {
        "id": "kAFLeYcDhNth",
        "colab": {
          "base_uri": "https://localhost:8080/"
        },
        "outputId": "b3b9ef8a-6f80-46a2-ba77-4881b55c10ea"
      },
      "execution_count": 12,
      "outputs": [
        {
          "output_type": "stream",
          "name": "stdout",
          "text": [
            "<keras.src.engine.functional.Functional object at 0x7eb9d17a7b20>\n",
            "<keras.src.preprocessing.image.DataFrameIterator object at 0x7eb9e1d949a0>\n"
          ]
        }
      ]
    },
    {
      "cell_type": "code",
      "source": [
        "x = feature_extractor.output.shape\n",
        "print(x)"
      ],
      "metadata": {
        "colab": {
          "base_uri": "https://localhost:8080/"
        },
        "id": "U3CKe_LYMScv",
        "outputId": "f14dc3a3-91a5-4932-9fba-f9da316c7d85"
      },
      "execution_count": 13,
      "outputs": [
        {
          "output_type": "stream",
          "name": "stdout",
          "text": [
            "(None, 20, 15, 1280)\n"
          ]
        }
      ]
    },
    {
      "cell_type": "code",
      "source": [
        "inputs = tf.keras.layers.Input(shape=(640, 480, 3))\n",
        "x = feature_extractor(inputs)\n",
        "x = tf.keras.layers.Conv2D(filters=64, kernel_size=(3, 3), activation='relu', padding='same')(x)\n",
        "x = tf.keras.layers.MaxPooling2D((2, 2))(x)\n",
        "x = tf.keras.layers.Conv2D(128, (3, 3), activation='relu', padding='same')(x)\n",
        "# x = tf.keras.layers.MaxPooling2D((2, 2))(x)\n",
        "x = tf.keras.layers.Conv2D(256, (3, 3), activation='relu', padding='same')(x)\n",
        "# x = tf.keras.layers.MaxPooling2D((2, 2))(x)\n",
        "x = tf.keras.layers.Conv2D(512, (3, 3), activation='relu', padding='same')(x)\n",
        "x = tf.keras.layers.MaxPooling2D((2, 2))(x)\n",
        "\n",
        "x = tf.keras.layers.GlobalAveragePooling2D()(x)\n",
        "x = tf.keras.layers.Dense(1024, activation='relu')(x)\n",
        "# x = tf.keras.layers.Dropout(0.5)(x)\n",
        "outputs = tf.keras.layers.Dense(9, activation='sigmoid')(x)\n",
        "\n",
        "# Create the model using the functional API\n",
        "model = tf.keras.Model(inputs=inputs, outputs=outputs)"
      ],
      "metadata": {
        "id": "6YbnAfHsiBsA"
      },
      "execution_count": 18,
      "outputs": []
    },
    {
      "cell_type": "code",
      "source": [
        "model.compile(\n",
        "    tf.keras.optimizers.Adam(learning_rate=0.00001),\n",
        "    loss='binary_crossentropy',\n",
        "    metrics=[tf.keras.metrics.AUC(name='auc'), tfa.metrics.F1Score(num_classes=1, average='micro', name='f1_score')]\n",
        ")"
      ],
      "metadata": {
        "id": "TAAInqbVj2FP"
      },
      "execution_count": 21,
      "outputs": []
    },
    {
      "cell_type": "code",
      "source": [
        "history = model.fit(\n",
        "    train_generator,\n",
        "    epochs=30,\n",
        "    validation_data=validation_generator,\n",
        ")"
      ],
      "metadata": {
        "colab": {
          "base_uri": "https://localhost:8080/"
        },
        "id": "y_fObd47lVAf",
        "outputId": "b7f2e360-c942-4353-fa3b-04e9d82329c9"
      },
      "execution_count": null,
      "outputs": [
        {
          "output_type": "stream",
          "name": "stdout",
          "text": [
            "Epoch 1/30\n",
            "73/73 [==============================] - 26s 285ms/step - loss: 0.3294 - auc: 0.7515 - f1_score: 0.3524 - val_loss: 0.3500 - val_auc: 0.6065 - val_f1_score: 0.2026\n",
            "Epoch 2/30\n",
            "73/73 [==============================] - 19s 260ms/step - loss: 0.3162 - auc: 0.7814 - f1_score: 0.3849 - val_loss: 0.3522 - val_auc: 0.6183 - val_f1_score: 0.2203\n",
            "Epoch 3/30\n",
            "73/73 [==============================] - 18s 252ms/step - loss: 0.3023 - auc: 0.8057 - f1_score: 0.4231 - val_loss: 0.3562 - val_auc: 0.6190 - val_f1_score: 0.2599\n",
            "Epoch 4/30\n",
            "73/73 [==============================] - 19s 265ms/step - loss: 0.2912 - auc: 0.8242 - f1_score: 0.4536 - val_loss: 0.3562 - val_auc: 0.6363 - val_f1_score: 0.2555\n",
            "Epoch 5/30\n",
            "73/73 [==============================] - 19s 254ms/step - loss: 0.2777 - auc: 0.8433 - f1_score: 0.4889 - val_loss: 0.3579 - val_auc: 0.6398 - val_f1_score: 0.2203\n",
            "Epoch 6/30\n",
            "73/73 [==============================] - 19s 256ms/step - loss: 0.2631 - auc: 0.8652 - f1_score: 0.5194 - val_loss: 0.3436 - val_auc: 0.6617 - val_f1_score: 0.2643\n",
            "Epoch 7/30\n",
            "73/73 [==============================] - 19s 257ms/step - loss: 0.2493 - auc: 0.8820 - f1_score: 0.5556 - val_loss: 0.3712 - val_auc: 0.6394 - val_f1_score: 0.2203\n",
            "Epoch 8/30\n",
            "73/73 [==============================] - 20s 267ms/step - loss: 0.2349 - auc: 0.8985 - f1_score: 0.5857 - val_loss: 0.3823 - val_auc: 0.6470 - val_f1_score: 0.2555\n",
            "Epoch 9/30\n",
            "32/73 [============>.................] - ETA: 9s - loss: 0.2263 - auc: 0.9060 - f1_score: 0.6083"
          ]
        }
      ]
    },
    {
      "cell_type": "code",
      "source": [
        "def learning_curves(history):\n",
        "    \"\"\"Plot the learning curves of loss and macro f1 score\n",
        "    for the training and validation datasets.\n",
        "\n",
        "    Args:\n",
        "        history: history callback of fitting a tensorflow keras model\n",
        "    \"\"\"\n",
        "\n",
        "    loss = history.history['loss']\n",
        "    val_loss = history.history['val_loss']\n",
        "\n",
        "    auc = history.history['auc']\n",
        "    val_auc = history.history['val_auc']\n",
        "\n",
        "    f1s = history.history['f1_score']\n",
        "    val_f1s = history.history['val_f1_score']\n",
        "\n",
        "    epochs = len(loss)\n",
        "\n",
        "    style.use(\"bmh\")\n",
        "    plt.figure(figsize=(10, 15))\n",
        "\n",
        "    plt.subplot(3, 1, 1)\n",
        "    plt.plot(range(1, epochs+1), loss, label='Training Loss')\n",
        "    plt.plot(range(1, epochs+1), val_loss, label='Validation Loss')\n",
        "    plt.legend(loc='upper right')\n",
        "    plt.ylabel('Loss')\n",
        "    plt.title('Training and Validation Loss')\n",
        "\n",
        "    plt.subplot(3, 1, 2)\n",
        "    plt.plot(range(1, epochs+1), auc, label='Training AUC')\n",
        "    plt.plot(range(1, epochs+1), val_auc, label='Validation AUC')\n",
        "    plt.legend(loc='upper right')\n",
        "    plt.ylabel('AUC')\n",
        "    plt.title('Training and Validation AUC')\n",
        "\n",
        "\n",
        "    plt.subplot(3, 1, 3)\n",
        "    plt.plot(range(1, epochs+1), f1s, label='Training F1-score')\n",
        "    plt.plot(range(1, epochs+1), val_f1s, label='Validation F1-score')\n",
        "    plt.legend(loc='lower right')\n",
        "    plt.ylabel('F1-score')\n",
        "    plt.title('Training and Validation F1-score')\n",
        "    plt.xlabel('epoch')\n",
        "\n",
        "    plt.tight_layout()\n",
        "    plt.show()\n",
        "\n",
        "    return loss, val_loss, auc, val_auc, f1s, val_f1s"
      ],
      "metadata": {
        "id": "xf2bFP6XPCw0"
      },
      "execution_count": null,
      "outputs": []
    },
    {
      "cell_type": "code",
      "source": [
        "loss, val_loss, auc, val_auc, f1s, val_f1s = learning_curves(history)"
      ],
      "metadata": {
        "id": "tNPzYni9LAx5"
      },
      "execution_count": null,
      "outputs": []
    }
  ],
  "metadata": {
    "colab": {
      "provenance": [],
      "gpuType": "T4",
      "include_colab_link": true
    },
    "kernelspec": {
      "display_name": "Python 3",
      "name": "python3"
    },
    "language_info": {
      "name": "python"
    },
    "accelerator": "GPU"
  },
  "nbformat": 4,
  "nbformat_minor": 0
}