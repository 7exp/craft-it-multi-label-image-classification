{
  "cells": [
    {
      "cell_type": "markdown",
      "metadata": {
        "id": "view-in-github",
        "colab_type": "text"
      },
      "source": [
        "<a href=\"https://colab.research.google.com/github/FadelYang/craft-it-object-detection-model/blob/main/main.ipynb\" target=\"_parent\"><img src=\"https://colab.research.google.com/assets/colab-badge.svg\" alt=\"Open In Colab\"/></a>"
      ]
    },
    {
      "cell_type": "code",
      "execution_count": 1,
      "metadata": {
        "id": "4JnzJf9euig4"
      },
      "outputs": [],
      "source": [
        "#importing required Libraries\n",
        "import os\n",
        "import tensorflow as tf\n",
        "import numpy as np\n",
        "import pandas as pd\n",
        "import cv2\n",
        "import matplotlib.pyplot as plt\n",
        "import matplotlib.patches as patches\n",
        "from google.colab import files"
      ]
    },
    {
      "cell_type": "markdown",
      "metadata": {
        "id": "JF0A5Q_zr742"
      },
      "source": [
        "# Preparing Dataset"
      ]
    },
    {
      "cell_type": "markdown",
      "metadata": {
        "id": "Kq6boXs1TLJT"
      },
      "source": [
        "## Mount to Google Drive"
      ]
    },
    {
      "cell_type": "code",
      "execution_count": 2,
      "metadata": {
        "colab": {
          "base_uri": "https://localhost:8080/"
        },
        "id": "pEaz1G0zTKTt",
        "outputId": "5acf3ee1-e8cd-4800-e6ee-54aa9ca6585f"
      },
      "outputs": [
        {
          "output_type": "stream",
          "name": "stdout",
          "text": [
            "Mounted at /content/drive\n"
          ]
        }
      ],
      "source": [
        "from google.colab import drive\n",
        "drive.mount('/content/drive')"
      ]
    },
    {
      "cell_type": "code",
      "execution_count": 3,
      "metadata": {
        "colab": {
          "base_uri": "https://localhost:8080/"
        },
        "id": "4tD5l4odTyKL",
        "outputId": "17f95603-34ce-45bf-fe76-0692c816252d"
      },
      "outputs": [
        {
          "output_type": "stream",
          "name": "stdout",
          "text": [
            "/content/drive/MyDrive/Colab Notebooks\n"
          ]
        }
      ],
      "source": [
        "%cd drive/MyDrive/'Colab Notebooks'"
      ]
    },
    {
      "cell_type": "markdown",
      "source": [
        "## Load Dataset\n",
        "\n"
      ],
      "metadata": {
        "id": "LYDQjdM35NIv"
      }
    },
    {
      "cell_type": "code",
      "source": [
        "# !wget https://app.roboflow.com/ds/gzGSPSpsan?key=CrzyeSBgrQ\n",
        "# !mv gzGSPSpsan?key=CrzyeSBgrQ data\n",
        "# !mkdir dataset\n",
        "# !unzip data -d dataset"
      ],
      "metadata": {
        "id": "k1neWgemF_pb"
      },
      "execution_count": 4,
      "outputs": []
    },
    {
      "cell_type": "code",
      "source": [
        "## Load label dataset.\n",
        "dataset_dir = os.path.join(os.getcwd(), 'dataset')\n",
        "train_label_df = pd.read_csv(os.path.join(dataset_dir, 'train', '_classes.csv'))\n",
        "validation_label_df = pd.read_csv(os.path.join(dataset_dir, 'valid', '_classes.csv'))\n",
        "train_images_dir = os.path.join(dataset_dir, 'train')\n",
        "validation_images_dir = os.path.join(dataset_dir, 'valid')\n",
        "\n",
        "print(train_images_dir)"
      ],
      "metadata": {
        "id": "UpiQRFsyGyM5",
        "colab": {
          "base_uri": "https://localhost:8080/"
        },
        "outputId": "6791fbe6-3967-46a8-ea0e-ac4f045aea45"
      },
      "execution_count": 5,
      "outputs": [
        {
          "output_type": "stream",
          "name": "stdout",
          "text": [
            "/content/drive/MyDrive/Colab Notebooks/dataset/train\n"
          ]
        }
      ]
    },
    {
      "cell_type": "code",
      "source": [
        "print(train_label_df.head())\n",
        "print(validation_label_df.head())"
      ],
      "metadata": {
        "colab": {
          "base_uri": "https://localhost:8080/"
        },
        "id": "3DZ0j3TdKeI4",
        "outputId": "10ae872e-5cfa-4297-caaf-e4ea270b0515"
      },
      "execution_count": 6,
      "outputs": [
        {
          "output_type": "stream",
          "name": "stdout",
          "text": [
            "                                           filename   aluminiumfoil   bottle  \\\n",
            "0  1196_jpg.rf.68689b8efc68113f5ffa321d8c02fe0b.jpg               0        0   \n",
            "1   757_jpg.rf.67b5d7ce20e152ea0f2b8783ffe65301.jpg               0        0   \n",
            "2   344_jpg.rf.6725ba8501f47157d433edc3e1420a85.jpg               0        1   \n",
            "3    65_jpg.rf.65d079f8e8e3840c836b3902febc65c8.jpg               0        0   \n",
            "4   414_jpg.rf.665baa402c9f84c0416955ebe0ad3925.jpg               0        0   \n",
            "\n",
            "    bottlecap   can   carton   cup   paper   plastic   straw  \n",
            "0           0     0        0     0       0         0       1  \n",
            "1           0     0        0     1       0         0       0  \n",
            "2           0     1        0     0       0         0       0  \n",
            "3           1     0        0     0       0         0       0  \n",
            "4           0     1        0     0       0         0       0  \n",
            "                                          filename   aluminiumfoil   bottle  \\\n",
            "0  121_jpg.rf.030d2a2ac6f40bab2e9bea71c50b7716.jpg               0        0   \n",
            "1  238_jpg.rf.01617a069a705fa562ef84880bd05ac7.jpg               0        0   \n",
            "2  204_jpg.rf.08ad57294fabcc5843ceebab7931c74e.jpg               0        0   \n",
            "3  226_jpg.rf.0aea7194b70e9605c1285d726dc173ab.jpg               0        0   \n",
            "4   28_jpg.rf.03810035eb376abcc381a4feb9969423.jpg               0        0   \n",
            "\n",
            "    bottlecap   can   carton   cup   paper   plastic   straw  \n",
            "0           0     0        1     0       0         0       0  \n",
            "1           0     0        0     0       0         0       1  \n",
            "2           0     0        0     0       0         1       0  \n",
            "3           0     0        0     0       0         0       1  \n",
            "4           1     0        0     0       0         0       0  \n"
          ]
        }
      ]
    },
    {
      "cell_type": "code",
      "source": [
        "# !rm -r train"
      ],
      "metadata": {
        "id": "DbZQ2_uMeSnD"
      },
      "execution_count": null,
      "outputs": []
    },
    {
      "cell_type": "code",
      "source": [
        "train_label_df.columns = train_label_df.columns.str.strip()\n",
        "validation_label_df.columns = validation_label_df.columns.str.strip()"
      ],
      "metadata": {
        "id": "8D2XLGfBNtRB"
      },
      "execution_count": 7,
      "outputs": []
    },
    {
      "cell_type": "code",
      "source": [
        "# # Check the data.\n",
        "# import os\n",
        "\n",
        "# train_image_filenames = train_label_df['filename'].tolist()\n",
        "# validation_image_filenames = validation_label_df['filename'].tolist()\n",
        "\n",
        "# train_image_paths = [os.path.join(train_images_dir, fname) for fname in train_image_filenames]\n",
        "# validation_image_paths = [os.path.join(validation_images_dir, fname) for fname in validation_image_filenames]\n",
        "\n",
        "# # Check if all files exist\n",
        "# missing_train_images = [img for img in train_image_paths if not os.path.exists(img)]\n",
        "# missing_validation_images = [img for img in validation_image_paths if not os.path.exists(img)]\n",
        "\n",
        "# print(f\"Missing train images: {missing_train_images}\")\n",
        "# print(f\"Missing validation images: {missing_validation_images}\")"
      ],
      "metadata": {
        "id": "l7B8H30aQ9PA"
      },
      "execution_count": 8,
      "outputs": []
    },
    {
      "cell_type": "code",
      "source": [
        "columns = [\n",
        "    \"aluminiumfoil\",\n",
        "    \"bottle\",\n",
        "    \"bottlecap\",\n",
        "    \"can\",\n",
        "    \"carton\",\n",
        "    \"cup\",\n",
        "    \"paper\",\n",
        "    \"plastic\",\n",
        "    \"straw\"\n",
        "]\n",
        "\n",
        "train_datagen = tf.keras.preprocessing.image.ImageDataGenerator(rescale=1./255.)\n",
        "validation_datagen = tf.keras.preprocessing.image.ImageDataGenerator(rescale=1./255.)\n",
        "\n",
        "\n",
        "if os.path.exists(train_images_dir):\n",
        "  train_generator = train_datagen.flow_from_dataframe(\n",
        "      dataframe=train_label_df,\n",
        "      directory=train_images_dir,\n",
        "      x_col='filename',\n",
        "      y_col=columns,\n",
        "      batch_size=32,\n",
        "      seed=42,\n",
        "      class_mode='raw',\n",
        "      shuffle=True,\n",
        ")\n",
        "\n",
        "if os.path.exists(validation_images_dir):\n",
        "  validation_generator = validation_datagen.flow_from_dataframe(\n",
        "      dataframe=validation_label_df,\n",
        "      directory=validation_images_dir,\n",
        "      x_col='filename',\n",
        "      y_col=columns,\n",
        "      batch_size=32,\n",
        "      class_mode='raw',\n",
        "      seed=42,\n",
        "      shuffle=False,\n",
        ")"
      ],
      "metadata": {
        "colab": {
          "base_uri": "https://localhost:8080/"
        },
        "id": "MwuQzfEkJXEX",
        "outputId": "9fe2cf2e-bee7-4714-d45f-adc5dc91fff7"
      },
      "execution_count": 9,
      "outputs": [
        {
          "output_type": "stream",
          "name": "stdout",
          "text": [
            "Found 2331 validated image filenames.\n",
            "Found 227 validated image filenames.\n"
          ]
        }
      ]
    },
    {
      "cell_type": "markdown",
      "source": [
        "# Create Model and Training"
      ],
      "metadata": {
        "id": "OKK-p_sLfui_"
      }
    },
    {
      "cell_type": "markdown",
      "source": [
        "## Build Model\n",
        "\n"
      ],
      "metadata": {
        "id": "xOBDwijSf7E_"
      }
    },
    {
      "cell_type": "code",
      "source": [
        "resnet_model = tf.keras.applications.ResNet50(\n",
        "    include_top=False,\n",
        "    weights='imagenet',\n",
        "    input_tensor=tf.keras.Input(shape=(640, 480, 3))\n",
        ")"
      ],
      "metadata": {
        "id": "ffQiBtkCgJ8H"
      },
      "execution_count": 15,
      "outputs": []
    },
    {
      "cell_type": "code",
      "source": [
        "# Freeze layers in ResNet50\n",
        "resnet_model.trainable = False\n",
        "\n",
        "print(resnet_model)\n",
        "print(train_generator)"
      ],
      "metadata": {
        "id": "kAFLeYcDhNth",
        "colab": {
          "base_uri": "https://localhost:8080/"
        },
        "outputId": "ce982301-a608-42f1-e9aa-40f4373e54e0"
      },
      "execution_count": 16,
      "outputs": [
        {
          "output_type": "stream",
          "name": "stdout",
          "text": [
            "<keras.src.engine.functional.Functional object at 0x7df2d511c8e0>\n",
            "<keras.src.preprocessing.image.DataFrameIterator object at 0x7df2e7fe7400>\n"
          ]
        }
      ]
    },
    {
      "cell_type": "code",
      "source": [
        "\n",
        "# x = base_model.output\n",
        "# x = GlobalAveragePooling2D()(x)\n",
        "# x = Dense(1024, activation='relu')(x)\n",
        "# predictions = Dense(num_classes, activation='sigmoid')(x)\n",
        "# model = Model(inputs=base_model.input, outputs=predictions)\n",
        "\n",
        "# Add dense layers for classification\n",
        "x = resnet_model.output\n",
        "x = tf.keras.layers.GlobalAveragePooling2D()(x)\n",
        "x = tf.keras.layers.Dense(2048, activation='relu')(x)\n",
        "outputs = tf.keras.layers.Dense(9, activation='sigmoid')(x)\n",
        "\n",
        "# Create the model using the functional API\n",
        "model = tf.keras.Model(inputs=resnet_model.input, outputs=outputs)"
      ],
      "metadata": {
        "id": "6YbnAfHsiBsA"
      },
      "execution_count": 33,
      "outputs": []
    },
    {
      "cell_type": "code",
      "source": [
        "x = resnet_model.output.shape\n",
        "print(x)"
      ],
      "metadata": {
        "colab": {
          "base_uri": "https://localhost:8080/"
        },
        "id": "U3CKe_LYMScv",
        "outputId": "ef611fac-dd6e-4505-ab0e-ee03b4f5df30"
      },
      "execution_count": 32,
      "outputs": [
        {
          "output_type": "stream",
          "name": "stdout",
          "text": [
            "(None, 20, 15, 2048)\n"
          ]
        }
      ]
    },
    {
      "cell_type": "code",
      "source": [
        "model.compile(\n",
        "    tf.keras.optimizers.Adam(learning_rate=0.0001),\n",
        "    loss='binary_crossentropy',\n",
        "    metrics=['accuracy']\n",
        ")"
      ],
      "metadata": {
        "id": "TAAInqbVj2FP"
      },
      "execution_count": 34,
      "outputs": []
    },
    {
      "cell_type": "code",
      "source": [
        "history = model.fit(\n",
        "    train_generator,\n",
        "    steps_per_epoch=train_generator.samples // train_generator.batch_size,\n",
        "    epochs=25,\n",
        "    validation_data=validation_generator,\n",
        "    validation_steps=validation_generator.samples // validation_generator.batch_size\n",
        ")"
      ],
      "metadata": {
        "colab": {
          "base_uri": "https://localhost:8080/"
        },
        "id": "y_fObd47lVAf",
        "outputId": "c36dfc00-b5eb-49ee-bc53-a7691c370a78"
      },
      "execution_count": null,
      "outputs": [
        {
          "output_type": "stream",
          "name": "stdout",
          "text": [
            "Epoch 1/25\n",
            "12/72 [====>.........................] - ETA: 9:35 - loss: 0.4580 - accuracy: 0.2109 "
          ]
        }
      ]
    },
    {
      "cell_type": "code",
      "source": [],
      "metadata": {
        "id": "xf2bFP6XPCw0"
      },
      "execution_count": null,
      "outputs": []
    }
  ],
  "metadata": {
    "colab": {
      "provenance": [],
      "gpuType": "T4",
      "authorship_tag": "ABX9TyOV3cr6MZEdGE72N1AGY3qm",
      "include_colab_link": true
    },
    "kernelspec": {
      "display_name": "Python 3",
      "name": "python3"
    },
    "language_info": {
      "name": "python"
    },
    "accelerator": "GPU"
  },
  "nbformat": 4,
  "nbformat_minor": 0
}